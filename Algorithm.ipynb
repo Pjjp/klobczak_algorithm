{
 "cells": [
  {
   "cell_type": "code",
   "execution_count": 2,
   "metadata": {
    "scrolled": true
   },
   "outputs": [],
   "source": [
    "import numpy as np\n",
    "import pandas as pd\n",
    "import matplotlib.pyplot as plt\n",
    "import seaborn as sns "
   ]
  },
  {
   "cell_type": "code",
   "execution_count": 3,
   "metadata": {},
   "outputs": [],
   "source": [
    "table_2 = pd.read_csv('2_column.csv')\n",
    "table_3 = pd.read_csv('3_column.csv')"
   ]
  },
  {
   "cell_type": "code",
   "execution_count": 4,
   "metadata": {},
   "outputs": [],
   "source": [
    "class Klobczak:\n",
    "    def __init__(self, A=100, table=None, el_c=None):\n",
    "        self.A = A\n",
    "        self.table = table\n",
    "        self.el_c = el_c\n",
    "\n",
    "\n",
    "    def split(self, table):\n",
    "        split_axis = self.find_split_axis(table)\n",
    "        element_count = table.A.count()\n",
    "\n",
    "        if(element_count> 10000):\n",
    "            median = np.median(table[split_axis])\n",
    "            split_table1 = table[table[split_axis] > median]\n",
    "            split_table2 = table[table[split_axis] <= median]\n",
    "            ############################\n",
    "            self.A -= 1\n",
    "            if(self.A==0):\n",
    "                self.table = split_table1\n",
    "                self.el_c = element_count\n",
    "            #############################\n",
    "            self.split(split_table1)\n",
    "            self.split(split_table2)\n",
    "\n",
    "\n",
    "    def find_split_axis(self, table):\n",
    "        greatest_variance = 0\n",
    "        for col in table.columns:\n",
    "            variance = table[col].var()\n",
    "            if(variance > greatest_variance): \n",
    "                greatest_variance = variance\n",
    "                split_axis = col\n",
    "        return split_axis"
   ]
  },
  {
   "cell_type": "code",
   "execution_count": 13,
   "metadata": {
    "scrolled": true
   },
   "outputs": [
    {
     "data": {
      "text/plain": [
       "<seaborn.axisgrid.JointGrid at 0x7f1d3a98d6a0>"
      ]
     },
     "execution_count": 13,
     "metadata": {},
     "output_type": "execute_result"
    },
    {
     "data": {
      "image/png": "[encoded data removed]",
      "text/plain": [
       "<Figure size 432x432 with 3 Axes>"
      ]
     },
     "metadata": {
      "needs_background": "light"
     },
     "output_type": "display_data"
    }
   ],
   "source": [
    "k2 = Klobczak(10, table_2)\n",
    "k2.split(table_2)\n",
    "k2.el_c\n",
    "sns.jointplot(x='A', y='B', data=k2.table)"
   ]
  },
  {
   "cell_type": "code",
   "execution_count": 6,
   "metadata": {},
   "outputs": [
    {
     "data": {
      "text/plain": [
       "<seaborn.axisgrid.JointGrid at 0x7f1d3bc7f978>"
      ]
     },
     "execution_count": 6,
     "metadata": {},
     "output_type": "execute_result"
    },
    {
     "data": {
      "image/png": "[encoded data removed]",
      "text/plain": [
       "<Figure size 432x432 with 3 Axes>"
      ]
     },
     "metadata": {
      "needs_background": "light"
     },
     "output_type": "display_data"
    }
   ],
   "source": [
    "k2 = Klobczak(16, table_2)\n",
    "k2.split(table_2)\n",
    "k2.el_c\n",
    "sns.jointplot(x='A', y='B', data=k2.table)"
   ]
  }
 ],
 "metadata": {
  "kernelspec": {
   "display_name": ".venv",
   "language": "python",
   "name": ".venv"
  },
  "language_info": {
   "codemirror_mode": {
    "name": "ipython",
    "version": 3
   },
   "file_extension": ".py",
   "mimetype": "text/x-python",
   "name": "python",
   "nbconvert_exporter": "python",
   "pygments_lexer": "ipython3",
   "version": "3.6.7"
  }
 },
 "nbformat": 4,
 "nbformat_minor": 2
}
