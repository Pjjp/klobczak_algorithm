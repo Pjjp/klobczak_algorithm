{
 "cells": [
  {
   "cell_type": "code",
   "execution_count": 18,
   "metadata": {
    "scrolled": true
   },
   "outputs": [],
   "source": [
    "chunks = [{\"column\": 'B'},{\"column\": 'A'},{\"column\": 'C'}]"
   ]
  },
  {
   "cell_type": "code",
   "execution_count": 16,
   "metadata": {},
   "outputs": [],
   "source": [
    "VOLUME = 10000\n",
    "\n",
    "def estimate(VOLUME, chunks):\n",
    "    \n",
    "    s_chunks = sorted(chunks, key = lambda k: k[\"column\"])\n",
    "    print(s_chunks)"
   ]
  },
  {
   "cell_type": "code",
   "execution_count": 19,
   "metadata": {
    "scrolled": true
   },
   "outputs": [
    {
     "name": "stdout",
     "output_type": "stream",
     "text": [
      "[{'column': 'A'}, {'column': 'B'}, {'column': 'C'}]\n"
     ]
    }
   ],
   "source": [
    "estimate(VOLUME, chunks)"
   ]
  }
 ],
 "metadata": {
  "kernelspec": {
   "display_name": "Python 3",
   "language": "python",
   "name": "python3"
  },
  "language_info": {
   "codemirror_mode": {
    "name": "ipython",
    "version": 3
   },
   "file_extension": ".py",
   "mimetype": "text/x-python",
   "name": "python",
   "nbconvert_exporter": "python",
   "pygments_lexer": "ipython3",
   "version": "3.6.7"
  }
 },
 "nbformat": 4,
 "nbformat_minor": 2
}
