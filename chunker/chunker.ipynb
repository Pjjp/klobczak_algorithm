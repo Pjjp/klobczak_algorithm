{
 "cells": [
  {
   "cell_type": "code",
   "execution_count": 1,
   "metadata": {},
   "outputs": [],
   "source": [
    "import numpy as np\n",
    "import pandas as pd\n",
    "\n",
    "table_2 = pd.read_csv('2_column.csv')"
   ]
  },
  {
   "cell_type": "code",
   "execution_count": 2,
   "metadata": {},
   "outputs": [],
   "source": [
    "def chunker_algorithm(cube_size):\n",
    "\n",
    "    def split(table):\n",
    "        split_axis = find_split_axis(table)\n",
    "        element_count = table[split_axis].count()\n",
    "\n",
    "        median = np.median(table[split_axis])\n",
    "        split_table1 = table[table[split_axis] > median]\n",
    "        split_table2 = table[table[split_axis] < median]\n",
    "\n",
    "        table_median = table.loc[table[split_axis] == median]\n",
    "        half_of_all = table[split_axis].count()/2\n",
    "\n",
    "        if split_table1[split_axis].count() != split_table2[split_axis].count():\n",
    "            split_table1 = split_table1.append(\n",
    "                table_median.head(int(half_of_all - split_table1[split_axis].count())))\n",
    "            split_table2 = split_table2.append(\n",
    "                table_median.tail(int(half_of_all - split_table2[split_axis].count())))\n",
    "\n",
    "        if element_count > cube_size:\n",
    "            return split(split_table1) + split(split_table2)\n",
    "            \n",
    "        else:\n",
    "            chunk = []\n",
    "            for col in table.columns:\n",
    "                chunk.append({\n",
    "                    \"column\": col,\n",
    "                    \"minimum\": table[col].min(),\n",
    "                    \"maximun\": table[col].max(),\n",
    "                })\n",
    "\n",
    "            return [chunk]\n",
    "\n",
    "    def find_split_axis(table):\n",
    "        greatest_variance = 0\n",
    "        for col in table.columns:\n",
    "            variance = table[col].var()\n",
    "            if variance > greatest_variance:\n",
    "                greatest_variance = variance\n",
    "                split_axis = col\n",
    "        return split_axis\n",
    "    \n",
    "    \n",
    "    return split(table_2)"
   ]
  },
  {
   "cell_type": "code",
   "execution_count": 3,
   "metadata": {},
   "outputs": [],
   "source": [
    "import matplotlib.pyplot as plt\n",
    "import matplotlib.patches as mpatch\n",
    "import seaborn as sns\n",
    "\n",
    "def draw_2d(chunks_borders):\n",
    "    x_min = table_2.A.min()\n",
    "    x_max = table_2.A.max()\n",
    "    y_min = table_2.B.min()\n",
    "    y_max = table_2.B.max()\n",
    "    \n",
    "    fig, ax = plt.subplots()\n",
    "    for bord in chunks_borders:\n",
    "        ax.add_artist(mpatch.Rectangle((bord[0][\"minimum\"], bord[1][\"minimum\"]), \n",
    "                                     bord[0][\"maximun\"]-bord[0][\"minimum\"], bord[1][\"maximun\"]-bord[1][\"minimum\"], fill = None))\n",
    "    ax.set_xlim((x_min, x_max))\n",
    "    ax.set_ylim((y_min, y_max))\n",
    "    plt.show()"
   ]
  },
  {
   "cell_type": "code",
   "execution_count": 5,
   "metadata": {},
   "outputs": [
    {
     "data": {
      "image/png": "[encoded data removed]",
      "text/plain": [
       "<Figure size 432x288 with 1 Axes>"
      ]
     },
     "metadata": {
      "needs_background": "light"
     },
     "output_type": "display_data"
    }
   ],
   "source": [
    "chunks_borders = chunker_algorithm(10000)\n",
    "draw_2d(chunks_borders)"
   ]
  }
 ],
 "metadata": {
  "kernelspec": {
   "display_name": "Python 3",
   "language": "python",
   "name": "python3"
  },
  "language_info": {
   "codemirror_mode": {
    "name": "ipython",
    "version": 3
   },
   "file_extension": ".py",
   "mimetype": "text/x-python",
   "name": "python",
   "nbconvert_exporter": "python",
   "pygments_lexer": "ipython3",
   "version": "3.6.8"
  }
 },
 "nbformat": 4,
 "nbformat_minor": 2
}
