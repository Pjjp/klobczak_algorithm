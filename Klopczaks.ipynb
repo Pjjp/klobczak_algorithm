{
 "cells": [
  {
   "cell_type": "code",
   "execution_count": 2,
   "metadata": {},
   "outputs": [],
   "source": [
    "import numpy as np\n",
    "import pandas as pd\n",
    "import matplotlib.pyplot as plt\n",
    "import seaborn as sns "
   ]
  },
  {
   "cell_type": "code",
   "execution_count": 3,
   "metadata": {},
   "outputs": [],
   "source": [
    "table_2 = pd.read_csv('2_column.csv')\n",
    "table_3 = pd.read_csv('3_column.csv')"
   ]
  },
  {
   "cell_type": "code",
   "execution_count": 10,
   "metadata": {},
   "outputs": [],
   "source": [
    "class Klobczak:\n",
    "    def __init__(self, cube_size = 10000, tables = [], curent_element_count = []):\n",
    "        self.cube_size = cube_size\n",
    "        self.tables = tables\n",
    "        self.curent_element_count = curent_element_count\n",
    "\n",
    "\n",
    "    def split(self, table):\n",
    "        split_axis = self.find_split_axis(table)\n",
    "        element_count = table.A.count()\n",
    "\n",
    "        if element_count<self.cube_size*(2.3):\n",
    "            #######################\n",
    "            self.tables.append(table)\n",
    "            self.curent_element_count.append(element_count)\n",
    "            #######################\n",
    "\n",
    "        if(element_count> self.cube_size*2):\n",
    "            median = np.median(table[split_axis])\n",
    "            split_table1 = table[table[split_axis] > median]\n",
    "            split_table2 = table[table[split_axis] < median]\n",
    "            self.split(split_table1)\n",
    "            self.split(split_table2)\n",
    "        else:\n",
    "            pass\n",
    "\n",
    "\n",
    "    def find_split_axis(self, table):\n",
    "        greatest_variance = 0\n",
    "        for col in table.columns:\n",
    "            variance = table[col].var()\n",
    "            if(variance > greatest_variance): \n",
    "                greatest_variance = variance\n",
    "                split_axis = col\n",
    "        return split_axis"
   ]
  },
  {
   "cell_type": "code",
   "execution_count": 17,
   "metadata": {
    "scrolled": false
   },
   "outputs": [],
   "source": [
    "k = Klobczak(10000)\n",
    "k.split(table_2)"
   ]
  },
  {
   "cell_type": "code",
   "execution_count": 20,
   "metadata": {
    "scrolled": true
   },
   "outputs": [
    {
     "name": "stdout",
     "output_type": "stream",
     "text": [
      "11675\n"
     ]
    },
    {
     "data": {
      "text/plain": [
       "<seaborn.axisgrid.JointGrid at 0x7fd756b68fd0>"
      ]
     },
     "execution_count": 20,
     "metadata": {},
     "output_type": "execute_result"
    },
    {
     "data": {
      "image/png": "[encoded data removed]",
      "text/plain": [
       "<Figure size 432x432 with 3 Axes>"
      ]
     },
     "metadata": {
      "needs_background": "light"
     },
     "output_type": "display_data"
    }
   ],
   "source": [
    "print(k.curent_element_count[1])\n",
    "sns.jointplot(x='A', y='B', data=k.tables[1])"
   ]
  }
 ],
 "metadata": {
  "kernelspec": {
   "display_name": "Python 3",
   "language": "python",
   "name": "python3"
  },
  "language_info": {
   "codemirror_mode": {
    "name": "ipython",
    "version": 3
   },
   "file_extension": ".py",
   "mimetype": "text/x-python",
   "name": "python",
   "nbconvert_exporter": "python",
   "pygments_lexer": "ipython3",
   "version": "3.6.8"
  }
 },
 "nbformat": 4,
 "nbformat_minor": 2
}
